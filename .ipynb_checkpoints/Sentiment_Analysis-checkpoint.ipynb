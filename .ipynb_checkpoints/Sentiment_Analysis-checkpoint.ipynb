{
 "cells": [
  {
   "cell_type": "code",
   "execution_count": 1,
   "metadata": {
    "colab": {
     "base_uri": "https://localhost:8080/"
    },
    "execution": {
     "iopub.execute_input": "2022-02-07T19:08:26.274765Z",
     "iopub.status.busy": "2022-02-07T19:08:26.272416Z",
     "iopub.status.idle": "2022-02-07T19:08:26.282956Z",
     "shell.execute_reply": "2022-02-07T19:08:26.282065Z",
     "shell.execute_reply.started": "2022-02-07T19:08:26.274720Z"
    },
    "id": "DyFr3wzQkIlM",
    "outputId": "fec518a4-3aae-45d8-fd60-4a080b089906"
   },
   "outputs": [],
   "source": [
    "import matplotlib.pyplot as plt\n",
    "import seaborn as sns\n",
    "import numpy as np\n",
    "import pandas as pd\n",
    "\n",
    "\n",
    "from wordcloud import WordCloud\n",
    "from sklearn.model_selection import train_test_split\n",
    "from sklearn.metrics import confusion_matrix,classification_report,accuracy_score\n",
    "from sklearn.preprocessing import LabelEncoder\n",
    "\n",
    "from tensorflow.keras.utils import to_categorical\n",
    "from tensorflow.keras.preprocessing.sequence import pad_sequences\n",
    "\n",
    "from tensorflow.keras.optimizers import Adam\n",
    "from tensorflow.keras.models import Sequential\n",
    "from tensorflow.keras.callbacks import EarlyStopping\n",
    "from tensorflow.keras.layers import Dense, LSTM, Embedding, Bidirectional,Dropout\n",
    "from tensorflow.keras.models import model_from_json\n",
    "from tensorflow.keras.preprocessing.text import one_hot\n",
    "\n",
    "import re \n",
    "import nltk\n",
    "from nltk.corpus import stopwords\n",
    "from nltk.stem import PorterStemmer"
   ]
  },
  {
   "cell_type": "markdown",
   "metadata": {
    "id": "pjTl1AXakIlP"
   },
   "source": [
    "# Import data"
   ]
  },
  {
   "cell_type": "code",
   "execution_count": 2,
   "metadata": {
    "colab": {
     "base_uri": "https://localhost:8080/"
    },
    "execution": {
     "iopub.execute_input": "2022-02-07T19:08:26.285096Z",
     "iopub.status.busy": "2022-02-07T19:08:26.284784Z",
     "iopub.status.idle": "2022-02-07T19:08:26.412543Z",
     "shell.execute_reply": "2022-02-07T19:08:26.411727Z",
     "shell.execute_reply.started": "2022-02-07T19:08:26.285055Z"
    },
    "id": "wBJ66Ro0kIlQ",
    "outputId": "1640cfdc-2f7e-4359-931b-120c2567d2e4"
   },
   "outputs": [
    {
     "name": "stdout",
     "output_type": "stream",
     "text": [
      "Train :  (16000, 2)\n",
      "Test :  (2000, 2)\n",
      "Validation :  (2000, 2)\n"
     ]
    }
   ],
   "source": [
    "test_data = pd.read_csv(\"test.txt\", header=None, sep=\";\", names=[\"Comment\",\"Emotion\"], encoding=\"utf-8\")\n",
    "train_data = pd.read_csv(\"train.txt\", header=None, sep=\";\", names=[\"Comment\",\"Emotion\"], encoding=\"utf-8\")\n",
    "validation_data = pd.read_csv(\"val.txt\", header=None, sep=\";\", names=[\"Comment\",\"Emotion\"], encoding=\"utf-8\")\n",
    "print(\"Train : \", train_data.shape)\n",
    "print(\"Test : \", test_data.shape)\n",
    "print(\"Validation : \", validation_data.shape)"
   ]
  },
  {
   "cell_type": "code",
   "execution_count": 3,
   "metadata": {
    "colab": {
     "base_uri": "https://localhost:8080/",
     "height": 206
    },
    "execution": {
     "iopub.execute_input": "2022-02-07T19:08:26.414176Z",
     "iopub.status.busy": "2022-02-07T19:08:26.413720Z",
     "iopub.status.idle": "2022-02-07T19:08:26.426760Z",
     "shell.execute_reply": "2022-02-07T19:08:26.425947Z",
     "shell.execute_reply.started": "2022-02-07T19:08:26.414143Z"
    },
    "id": "GkHjyqm5kIlQ",
    "outputId": "3833cb39-4c11-4e16-a846-0d363bdc9c77"
   },
   "outputs": [
    {
     "data": {
      "text/html": [
       "<div>\n",
       "<style scoped>\n",
       "    .dataframe tbody tr th:only-of-type {\n",
       "        vertical-align: middle;\n",
       "    }\n",
       "\n",
       "    .dataframe tbody tr th {\n",
       "        vertical-align: top;\n",
       "    }\n",
       "\n",
       "    .dataframe thead th {\n",
       "        text-align: right;\n",
       "    }\n",
       "</style>\n",
       "<table border=\"1\" class=\"dataframe\">\n",
       "  <thead>\n",
       "    <tr style=\"text-align: right;\">\n",
       "      <th></th>\n",
       "      <th>Comment</th>\n",
       "      <th>Emotion</th>\n",
       "    </tr>\n",
       "  </thead>\n",
       "  <tbody>\n",
       "    <tr>\n",
       "      <th>0</th>\n",
       "      <td>i didnt feel humiliated</td>\n",
       "      <td>sadness</td>\n",
       "    </tr>\n",
       "    <tr>\n",
       "      <th>1</th>\n",
       "      <td>i can go from feeling so hopeless to so damned...</td>\n",
       "      <td>sadness</td>\n",
       "    </tr>\n",
       "    <tr>\n",
       "      <th>2</th>\n",
       "      <td>im grabbing a minute to post i feel greedy wrong</td>\n",
       "      <td>anger</td>\n",
       "    </tr>\n",
       "    <tr>\n",
       "      <th>3</th>\n",
       "      <td>i am ever feeling nostalgic about the fireplac...</td>\n",
       "      <td>love</td>\n",
       "    </tr>\n",
       "    <tr>\n",
       "      <th>4</th>\n",
       "      <td>i am feeling grouchy</td>\n",
       "      <td>anger</td>\n",
       "    </tr>\n",
       "  </tbody>\n",
       "</table>\n",
       "</div>"
      ],
      "text/plain": [
       "                                             Comment  Emotion\n",
       "0                            i didnt feel humiliated  sadness\n",
       "1  i can go from feeling so hopeless to so damned...  sadness\n",
       "2   im grabbing a minute to post i feel greedy wrong    anger\n",
       "3  i am ever feeling nostalgic about the fireplac...     love\n",
       "4                               i am feeling grouchy    anger"
      ]
     },
     "execution_count": 3,
     "metadata": {},
     "output_type": "execute_result"
    }
   ],
   "source": [
    "train_data.head()"
   ]
  },
  {
   "cell_type": "markdown",
   "metadata": {
    "id": "Xg61fy3gkIlR"
   },
   "source": [
    "I will first try to see if length of the comments is correlated to the emotion"
   ]
  },
  {
   "cell_type": "code",
   "execution_count": 4,
   "metadata": {
    "colab": {
     "base_uri": "https://localhost:8080/",
     "height": 206
    },
    "execution": {
     "iopub.execute_input": "2022-02-07T19:08:26.429040Z",
     "iopub.status.busy": "2022-02-07T19:08:26.428214Z",
     "iopub.status.idle": "2022-02-07T19:08:26.452570Z",
     "shell.execute_reply": "2022-02-07T19:08:26.451687Z",
     "shell.execute_reply.started": "2022-02-07T19:08:26.428993Z"
    },
    "id": "dWQVOMnDkIlR",
    "outputId": "926a2d1a-e3ea-4583-9e5e-dab8fb3d3d7c"
   },
   "outputs": [
    {
     "data": {
      "text/html": [
       "<div>\n",
       "<style scoped>\n",
       "    .dataframe tbody tr th:only-of-type {\n",
       "        vertical-align: middle;\n",
       "    }\n",
       "\n",
       "    .dataframe tbody tr th {\n",
       "        vertical-align: top;\n",
       "    }\n",
       "\n",
       "    .dataframe thead th {\n",
       "        text-align: right;\n",
       "    }\n",
       "</style>\n",
       "<table border=\"1\" class=\"dataframe\">\n",
       "  <thead>\n",
       "    <tr style=\"text-align: right;\">\n",
       "      <th></th>\n",
       "      <th>Comment</th>\n",
       "      <th>Emotion</th>\n",
       "      <th>length</th>\n",
       "    </tr>\n",
       "  </thead>\n",
       "  <tbody>\n",
       "    <tr>\n",
       "      <th>0</th>\n",
       "      <td>i didnt feel humiliated</td>\n",
       "      <td>sadness</td>\n",
       "      <td>23</td>\n",
       "    </tr>\n",
       "    <tr>\n",
       "      <th>1</th>\n",
       "      <td>i can go from feeling so hopeless to so damned...</td>\n",
       "      <td>sadness</td>\n",
       "      <td>108</td>\n",
       "    </tr>\n",
       "    <tr>\n",
       "      <th>2</th>\n",
       "      <td>im grabbing a minute to post i feel greedy wrong</td>\n",
       "      <td>anger</td>\n",
       "      <td>48</td>\n",
       "    </tr>\n",
       "    <tr>\n",
       "      <th>3</th>\n",
       "      <td>i am ever feeling nostalgic about the fireplac...</td>\n",
       "      <td>love</td>\n",
       "      <td>92</td>\n",
       "    </tr>\n",
       "    <tr>\n",
       "      <th>4</th>\n",
       "      <td>i am feeling grouchy</td>\n",
       "      <td>anger</td>\n",
       "      <td>20</td>\n",
       "    </tr>\n",
       "  </tbody>\n",
       "</table>\n",
       "</div>"
      ],
      "text/plain": [
       "                                             Comment  Emotion  length\n",
       "0                            i didnt feel humiliated  sadness      23\n",
       "1  i can go from feeling so hopeless to so damned...  sadness     108\n",
       "2   im grabbing a minute to post i feel greedy wrong    anger      48\n",
       "3  i am ever feeling nostalgic about the fireplac...     love      92\n",
       "4                               i am feeling grouchy    anger      20"
      ]
     },
     "execution_count": 4,
     "metadata": {},
     "output_type": "execute_result"
    }
   ],
   "source": [
    "train_data['length'] = [len(x) for x in train_data['Comment']]\n",
    "train_data.head()"
   ]
  },
  {
   "cell_type": "markdown",
   "metadata": {
    "id": "vtutKxD6kIlS"
   },
   "source": [
    "### Words Cloud for each emotion"
   ]
  },
  {
   "cell_type": "code",
   "execution_count": 5,
   "metadata": {
    "colab": {
     "base_uri": "https://localhost:8080/"
    },
    "execution": {
     "iopub.execute_input": "2022-02-07T19:08:27.235493Z",
     "iopub.status.busy": "2022-02-07T19:08:27.235187Z",
     "iopub.status.idle": "2022-02-07T19:08:27.251076Z",
     "shell.execute_reply": "2022-02-07T19:08:27.250277Z",
     "shell.execute_reply.started": "2022-02-07T19:08:27.235425Z"
    },
    "id": "205corOhkIlT",
    "outputId": "ba6416fb-8b92-49ea-d561-6988796fa72f"
   },
   "outputs": [
    {
     "data": {
      "text/plain": [
       "array(['sadness', 'anger', 'love', 'surprise', 'fear', 'joy'],\n",
       "      dtype=object)"
      ]
     },
     "execution_count": 5,
     "metadata": {},
     "output_type": "execute_result"
    }
   ],
   "source": [
    "emotions_list = train_data['Emotion'].unique()\n",
    "emotions_list"
   ]
  },
  {
   "cell_type": "markdown",
   "metadata": {
    "id": "qyAxCaIokIlT"
   },
   "source": [
    "# Preprocessing"
   ]
  },
  {
   "cell_type": "markdown",
   "metadata": {
    "id": "9ufkmX8UkIlU"
   },
   "source": [
    "#### Label Encoding"
   ]
  },
  {
   "cell_type": "code",
   "execution_count": 6,
   "metadata": {
    "execution": {
     "iopub.execute_input": "2022-02-07T19:08:35.801450Z",
     "iopub.status.busy": "2022-02-07T19:08:35.801102Z",
     "iopub.status.idle": "2022-02-07T19:08:35.810908Z",
     "shell.execute_reply": "2022-02-07T19:08:35.810416Z",
     "shell.execute_reply.started": "2022-02-07T19:08:35.801419Z"
    },
    "id": "CbV3FiuLkIlU"
   },
   "outputs": [],
   "source": [
    "lb = LabelEncoder()\n",
    "train_data['Emotion'] = lb.fit_transform(train_data['Emotion'])\n",
    "test_data['Emotion'] = lb.fit_transform(test_data['Emotion'])\n",
    "validation_data['Emotion'] = lb.fit_transform(validation_data['Emotion'])"
   ]
  },
  {
   "cell_type": "code",
   "execution_count": 7,
   "metadata": {},
   "outputs": [
    {
     "data": {
      "image/png": "[encoded data removed]",
      "text/plain": [
       "<Figure size 1500x500 with 3 Axes>"
      ]
     },
     "metadata": {},
     "output_type": "display_data"
    }
   ],
   "source": [
    "fig, ax = plt.subplots(1, 3, figsize=(15,5))\n",
    "sns.countplot(x=train_data['Emotion'], ax=ax[0])\n",
    "ax[0].set_title('train data')\n",
    "sns.countplot(x=test_data['Emotion'], ax=ax[1])\n",
    "ax[1].set_title('test data')\n",
    "sns.countplot(x=validation_data['Emotion'], ax=ax[2])\n",
    "ax[2].set_title('validation data')\n",
    "plt.show()"
   ]
  },
  {
   "cell_type": "code",
   "execution_count": 8,
   "metadata": {
    "colab": {
     "base_uri": "https://localhost:8080/"
    },
    "id": "S5CTjZGQlGDG",
    "outputId": "6714990e-77bd-4ec9-9dfd-b7a41d762eba"
   },
   "outputs": [
    {
     "name": "stdout",
     "output_type": "stream",
     "text": [
      "['anger' 'fear' 'joy' 'love' 'sadness' 'surprise']\n"
     ]
    }
   ],
   "source": [
    "print(lb.classes_)"
   ]
  },
  {
   "cell_type": "code",
   "execution_count": 9,
   "metadata": {
    "colab": {
     "base_uri": "https://localhost:8080/",
     "height": 112
    },
    "execution": {
     "iopub.execute_input": "2022-02-07T19:08:35.812235Z",
     "iopub.status.busy": "2022-02-07T19:08:35.811888Z",
     "iopub.status.idle": "2022-02-07T19:08:35.829076Z",
     "shell.execute_reply": "2022-02-07T19:08:35.828170Z",
     "shell.execute_reply.started": "2022-02-07T19:08:35.812208Z"
    },
    "id": "2ZUeQmcykIlU",
    "outputId": "3c30dbf5-0650-4b09-a44e-18dca91295e2"
   },
   "outputs": [
    {
     "data": {
      "text/html": [
       "<div>\n",
       "<style scoped>\n",
       "    .dataframe tbody tr th:only-of-type {\n",
       "        vertical-align: middle;\n",
       "    }\n",
       "\n",
       "    .dataframe tbody tr th {\n",
       "        vertical-align: top;\n",
       "    }\n",
       "\n",
       "    .dataframe thead th {\n",
       "        text-align: right;\n",
       "    }\n",
       "</style>\n",
       "<table border=\"1\" class=\"dataframe\">\n",
       "  <thead>\n",
       "    <tr style=\"text-align: right;\">\n",
       "      <th></th>\n",
       "      <th>Comment</th>\n",
       "      <th>Emotion</th>\n",
       "      <th>length</th>\n",
       "    </tr>\n",
       "  </thead>\n",
       "  <tbody>\n",
       "    <tr>\n",
       "      <th>0</th>\n",
       "      <td>i didnt feel humiliated</td>\n",
       "      <td>4</td>\n",
       "      <td>23</td>\n",
       "    </tr>\n",
       "    <tr>\n",
       "      <th>1</th>\n",
       "      <td>i can go from feeling so hopeless to so damned...</td>\n",
       "      <td>4</td>\n",
       "      <td>108</td>\n",
       "    </tr>\n",
       "  </tbody>\n",
       "</table>\n",
       "</div>"
      ],
      "text/plain": [
       "                                             Comment  Emotion  length\n",
       "0                            i didnt feel humiliated        4      23\n",
       "1  i can go from feeling so hopeless to so damned...        4     108"
      ]
     },
     "execution_count": 9,
     "metadata": {},
     "output_type": "execute_result"
    }
   ],
   "source": [
    "train_data.head(2)"
   ]
  },
  {
   "cell_type": "markdown",
   "metadata": {
    "id": "V6FcQTXmkIlU"
   },
   "source": [
    "#### Removing unrelevent stopwords and chars"
   ]
  },
  {
   "cell_type": "code",
   "execution_count": 10,
   "metadata": {
    "colab": {
     "base_uri": "https://localhost:8080/"
    },
    "execution": {
     "iopub.execute_input": "2022-02-07T19:08:35.830749Z",
     "iopub.status.busy": "2022-02-07T19:08:35.830338Z",
     "iopub.status.idle": "2022-02-07T19:08:36.104321Z",
     "shell.execute_reply": "2022-02-07T19:08:36.103429Z",
     "shell.execute_reply.started": "2022-02-07T19:08:35.830707Z"
    },
    "id": "64S2h0AFkIlV",
    "outputId": "8c20dace-d069-4991-f6a8-30227a4b8627"
   },
   "outputs": [
    {
     "name": "stderr",
     "output_type": "stream",
     "text": [
      "[nltk_data] Downloading package stopwords to\n",
      "[nltk_data]     C:\\Users\\HP\\AppData\\Roaming\\nltk_data...\n",
      "[nltk_data]   Package stopwords is already up-to-date!\n"
     ]
    }
   ],
   "source": [
    "nltk.download('stopwords')\n",
    "stopwords = nltk.corpus.stopwords.words('english')"
   ]
  },
  {
   "cell_type": "code",
   "execution_count": 11,
   "metadata": {
    "colab": {
     "base_uri": "https://localhost:8080/"
    },
    "execution": {
     "iopub.execute_input": "2022-02-07T19:08:36.105739Z",
     "iopub.status.busy": "2022-02-07T19:08:36.105514Z",
     "iopub.status.idle": "2022-02-07T19:08:36.112201Z",
     "shell.execute_reply": "2022-02-07T19:08:36.111450Z",
     "shell.execute_reply.started": "2022-02-07T19:08:36.105712Z"
    },
    "id": "uLCsxY22kIlV",
    "outputId": "eede568c-d278-4c57-a8cb-e438bb039326"
   },
   "outputs": [
    {
     "data": {
      "text/plain": [
       "300"
      ]
     },
     "execution_count": 11,
     "metadata": {},
     "output_type": "execute_result"
    }
   ],
   "source": [
    "max_len=train_data['length'].max()\n",
    "max_len"
   ]
  },
  {
   "cell_type": "code",
   "execution_count": 12,
   "metadata": {
    "execution": {
     "iopub.execute_input": "2022-02-07T19:08:36.114056Z",
     "iopub.status.busy": "2022-02-07T19:08:36.113606Z",
     "iopub.status.idle": "2022-02-07T19:08:36.122567Z",
     "shell.execute_reply": "2022-02-07T19:08:36.121917Z",
     "shell.execute_reply.started": "2022-02-07T19:08:36.113997Z"
    },
    "id": "elfV79z5kIlW"
   },
   "outputs": [],
   "source": [
    "vocabSize = 11000"
   ]
  },
  {
   "cell_type": "code",
   "execution_count": 13,
   "metadata": {
    "execution": {
     "iopub.execute_input": "2022-02-07T19:49:27.369374Z",
     "iopub.status.busy": "2022-02-07T19:49:27.368773Z",
     "iopub.status.idle": "2022-02-07T19:49:27.377779Z",
     "shell.execute_reply": "2022-02-07T19:49:27.377100Z",
     "shell.execute_reply.started": "2022-02-07T19:49:27.369336Z"
    },
    "id": "eDSXtAfGkIlW"
   },
   "outputs": [],
   "source": [
    "from tensorflow.keras.preprocessing.text import one_hot\n",
    "\n",
    "def text_cleaning(df, column):\n",
    "    stemmer = PorterStemmer()\n",
    "    corpus = []\n",
    "    \n",
    "    for text in df[column]:\n",
    "        text = re.sub(\"[^a-zA-Z]\", \" \", text)\n",
    "        text = text.lower()\n",
    "        text = text.split()\n",
    "        text = [stemmer.stem(word) for word in text if (word not in stopwords or word == 'not')]\n",
    "        text = \" \".join(text)\n",
    "        corpus.append(text)\n",
    "    one_hot_word = [one_hot(input_text=word, n=vocabSize) for word in corpus]\n",
    "    pad = pad_sequences(sequences=one_hot_word,maxlen=max_len,padding='pre')\n",
    "    print(pad.shape)\n",
    "    return pad"
   ]
  },
  {
   "cell_type": "code",
   "execution_count": 14,
   "metadata": {
    "colab": {
     "base_uri": "https://localhost:8080/"
    },
    "execution": {
     "iopub.execute_input": "2022-02-07T19:49:42.236981Z",
     "iopub.status.busy": "2022-02-07T19:49:42.236675Z",
     "iopub.status.idle": "2022-02-07T19:49:46.508487Z",
     "shell.execute_reply": "2022-02-07T19:49:46.507517Z",
     "shell.execute_reply.started": "2022-02-07T19:49:42.236945Z"
    },
    "id": "a_0BjkCmkIlW",
    "outputId": "1f36e97c-4045-41a4-8dca-3e52dd23304d"
   },
   "outputs": [
    {
     "name": "stdout",
     "output_type": "stream",
     "text": [
      "(16000, 300)\n",
      "(2000, 300)\n",
      "(2000, 300)\n"
     ]
    }
   ],
   "source": [
    "x_train = text_cleaning(train_data, \"Comment\")\n",
    "x_test = text_cleaning(test_data, \"Comment\")\n",
    "x_val = text_cleaning(validation_data, \"Comment\")"
   ]
  },
  {
   "cell_type": "code",
   "execution_count": 15,
   "metadata": {
    "execution": {
     "iopub.execute_input": "2022-02-07T19:08:40.270535Z",
     "iopub.status.busy": "2022-02-07T19:08:40.269965Z",
     "iopub.status.idle": "2022-02-07T19:08:40.275805Z",
     "shell.execute_reply": "2022-02-07T19:08:40.274565Z",
     "shell.execute_reply.started": "2022-02-07T19:08:40.270491Z"
    },
    "id": "_9zFmyXvkIlW"
   },
   "outputs": [],
   "source": [
    "y_train = train_data[\"Emotion\"]\n",
    "y_test = test_data[\"Emotion\"]\n",
    "y_val = validation_data[\"Emotion\"]"
   ]
  },
  {
   "cell_type": "code",
   "execution_count": 16,
   "metadata": {
    "execution": {
     "iopub.execute_input": "2022-02-07T19:08:40.277631Z",
     "iopub.status.busy": "2022-02-07T19:08:40.277279Z",
     "iopub.status.idle": "2022-02-07T19:08:40.289124Z",
     "shell.execute_reply": "2022-02-07T19:08:40.288399Z",
     "shell.execute_reply.started": "2022-02-07T19:08:40.277591Z"
    },
    "id": "yv66s7QYkIlX"
   },
   "outputs": [],
   "source": [
    "y_train = to_categorical(y_train)\n",
    "y_test = to_categorical(y_test)\n",
    "y_val = to_categorical(y_val)"
   ]
  },
  {
   "cell_type": "markdown",
   "metadata": {
    "id": "0ypJghR3kIlX"
   },
   "source": [
    "# Model building\n"
   ]
  },
  {
   "cell_type": "code",
   "execution_count": 17,
   "metadata": {
    "execution": {
     "iopub.execute_input": "2022-02-07T20:30:26.893780Z",
     "iopub.status.busy": "2022-02-07T20:30:26.893324Z",
     "iopub.status.idle": "2022-02-07T20:30:27.141888Z",
     "shell.execute_reply": "2022-02-07T20:30:27.141051Z",
     "shell.execute_reply.started": "2022-02-07T20:30:26.893733Z"
    },
    "id": "6LpJOCNGkIlX"
   },
   "outputs": [],
   "source": [
    "model = Sequential()\n",
    "model.add(Embedding(input_dim=vocabSize,output_dim=150,input_length=300))\n",
    "model.add(Dropout(0.2))\n",
    "model.add(LSTM(128))\n",
    "model.add(Dropout(0.2))\n",
    "model.add(Dense(64,activation='sigmoid'))\n",
    "model.add(Dropout(0.2))\n",
    "model.add(Dense(6,activation='softmax'))"
   ]
  },
  {
   "cell_type": "code",
   "execution_count": 18,
   "metadata": {
    "colab": {
     "base_uri": "https://localhost:8080/"
    },
    "execution": {
     "iopub.execute_input": "2022-02-07T20:30:28.600182Z",
     "iopub.status.busy": "2022-02-07T20:30:28.599834Z",
     "iopub.status.idle": "2022-02-07T20:30:28.613812Z",
     "shell.execute_reply": "2022-02-07T20:30:28.612882Z",
     "shell.execute_reply.started": "2022-02-07T20:30:28.600148Z"
    },
    "id": "sPqtU_xdkIlX",
    "outputId": "f1cab110-dc08-4a2e-f73d-3e13be064b18"
   },
   "outputs": [
    {
     "name": "stdout",
     "output_type": "stream",
     "text": [
      "Model: \"sequential\"\n",
      "_________________________________________________________________\n",
      " Layer (type)                Output Shape              Param #   \n",
      "=================================================================\n",
      " embedding (Embedding)       (None, 300, 150)          1650000   \n",
      "                                                                 \n",
      " dropout (Dropout)           (None, 300, 150)          0         \n",
      "                                                                 \n",
      " lstm (LSTM)                 (None, 128)               142848    \n",
      "                                                                 \n",
      " dropout_1 (Dropout)         (None, 128)               0         \n",
      "                                                                 \n",
      " dense (Dense)               (None, 64)                8256      \n",
      "                                                                 \n",
      " dropout_2 (Dropout)         (None, 64)                0         \n",
      "                                                                 \n",
      " dense_1 (Dense)             (None, 6)                 390       \n",
      "                                                                 \n",
      "=================================================================\n",
      "Total params: 1801494 (6.87 MB)\n",
      "Trainable params: 1801494 (6.87 MB)\n",
      "Non-trainable params: 0 (0.00 Byte)\n",
      "_________________________________________________________________\n"
     ]
    }
   ],
   "source": [
    "model.compile(optimizer='adam',loss='categorical_crossentropy',metrics=['accuracy'])\n",
    "model.summary()"
   ]
  },
  {
   "cell_type": "code",
   "execution_count": 19,
   "metadata": {
    "execution": {
     "iopub.execute_input": "2022-02-07T19:50:14.506737Z",
     "iopub.status.busy": "2022-02-07T19:50:14.505972Z",
     "iopub.status.idle": "2022-02-07T19:50:14.510575Z",
     "shell.execute_reply": "2022-02-07T19:50:14.509778Z",
     "shell.execute_reply.started": "2022-02-07T19:50:14.506698Z"
    },
    "id": "pfnrL88WkIlX"
   },
   "outputs": [],
   "source": [
    "callback = EarlyStopping(monitor=\"val_loss\", patience=3, restore_best_weights=True)"
   ]
  },
  {
   "cell_type": "code",
   "execution_count": 20,
   "metadata": {
    "colab": {
     "base_uri": "https://localhost:8080/"
    },
    "execution": {
     "iopub.execute_input": "2022-02-07T20:30:32.658936Z",
     "iopub.status.busy": "2022-02-07T20:30:32.658678Z",
     "iopub.status.idle": "2022-02-07T20:41:43.123291Z",
     "shell.execute_reply": "2022-02-07T20:41:43.122429Z",
     "shell.execute_reply.started": "2022-02-07T20:30:32.658909Z"
    },
    "id": "GLTJvNWvkIlY",
    "outputId": "c9fd9402-b869-4e20-cd30-3836e88fcb47"
   },
   "outputs": [
    {
     "name": "stdout",
     "output_type": "stream",
     "text": [
      "Epoch 1/10\n",
      "250/250 [==============================] - 146s 574ms/step - loss: 1.5994 - accuracy: 0.3377 - val_loss: 1.3850 - val_accuracy: 0.5245\n",
      "Epoch 2/10\n",
      "250/250 [==============================] - 164s 655ms/step - loss: 1.0060 - accuracy: 0.6550 - val_loss: 0.6603 - val_accuracy: 0.7970\n",
      "Epoch 3/10\n",
      "250/250 [==============================] - 148s 592ms/step - loss: 0.4791 - accuracy: 0.8503 - val_loss: 0.3995 - val_accuracy: 0.8605\n",
      "Epoch 4/10\n",
      "250/250 [==============================] - 140s 559ms/step - loss: 0.2606 - accuracy: 0.9159 - val_loss: 0.3262 - val_accuracy: 0.8870\n",
      "Epoch 5/10\n",
      "250/250 [==============================] - 128s 511ms/step - loss: 0.1947 - accuracy: 0.9365 - val_loss: 0.3760 - val_accuracy: 0.8825\n",
      "Epoch 6/10\n",
      "250/250 [==============================] - 131s 523ms/step - loss: 0.1399 - accuracy: 0.9532 - val_loss: 0.3270 - val_accuracy: 0.8980\n",
      "Epoch 7/10\n",
      "250/250 [==============================] - 128s 513ms/step - loss: 0.1214 - accuracy: 0.9592 - val_loss: 0.3419 - val_accuracy: 0.8905\n"
     ]
    }
   ],
   "source": [
    "hist = model.fit(x_train,y_train,epochs=10,batch_size=64,\n",
    "                 validation_data=(x_val,y_val), verbose=1, callbacks=[callback])"
   ]
  },
  {
   "cell_type": "code",
   "execution_count": 21,
   "metadata": {
    "colab": {
     "base_uri": "https://localhost:8080/"
    },
    "execution": {
     "iopub.execute_input": "2022-02-07T20:43:57.307228Z",
     "iopub.status.busy": "2022-02-07T20:43:57.306905Z",
     "iopub.status.idle": "2022-02-07T20:44:03.076642Z",
     "shell.execute_reply": "2022-02-07T20:44:03.075948Z",
     "shell.execute_reply.started": "2022-02-07T20:43:57.307196Z"
    },
    "id": "9k6toAZxkIlY",
    "outputId": "0bc04112-5a5a-438c-8059-347fb7270f57"
   },
   "outputs": [
    {
     "name": "stdout",
     "output_type": "stream",
     "text": [
      "63/63 [==============================] - 6s 95ms/step - loss: 0.3262 - accuracy: 0.8870\n"
     ]
    },
    {
     "data": {
      "text/plain": [
       "[0.3261815011501312, 0.8870000243186951]"
      ]
     },
     "execution_count": 21,
     "metadata": {},
     "output_type": "execute_result"
    }
   ],
   "source": [
    "model.evaluate(x_val,y_val,verbose=1)"
   ]
  },
  {
   "cell_type": "code",
   "execution_count": 22,
   "metadata": {
    "colab": {
     "base_uri": "https://localhost:8080/"
    },
    "execution": {
     "iopub.execute_input": "2022-02-07T20:44:04.929557Z",
     "iopub.status.busy": "2022-02-07T20:44:04.929268Z",
     "iopub.status.idle": "2022-02-07T20:44:10.706642Z",
     "shell.execute_reply": "2022-02-07T20:44:10.706070Z",
     "shell.execute_reply.started": "2022-02-07T20:44:04.929523Z"
    },
    "id": "CxBJ8s7CkIlY",
    "outputId": "86b1a047-ec0c-4fc1-bac7-b2cbb82ff564"
   },
   "outputs": [
    {
     "name": "stdout",
     "output_type": "stream",
     "text": [
      "63/63 [==============================] - 6s 91ms/step - loss: 0.3597 - accuracy: 0.8730\n"
     ]
    },
    {
     "data": {
      "text/plain": [
       "[0.3597428798675537, 0.8730000257492065]"
      ]
     },
     "execution_count": 22,
     "metadata": {},
     "output_type": "execute_result"
    }
   ],
   "source": [
    "model.evaluate(x_test,y_test,verbose=1)"
   ]
  },
  {
   "cell_type": "code",
   "execution_count": 23,
   "metadata": {
    "colab": {
     "base_uri": "https://localhost:8080/",
     "height": 545
    },
    "execution": {
     "iopub.execute_input": "2022-02-07T20:44:12.374293Z",
     "iopub.status.busy": "2022-02-07T20:44:12.374045Z",
     "iopub.status.idle": "2022-02-07T20:44:12.740785Z",
     "shell.execute_reply": "2022-02-07T20:44:12.739957Z",
     "shell.execute_reply.started": "2022-02-07T20:44:12.374267Z"
    },
    "id": "Qmwh9YwKkIlY",
    "outputId": "89a223d0-292c-41f6-9724-f91949594ae1"
   },
   "outputs": [
    {
     "data": {
      "image/png": "[encoded data removed]",
      "text/plain": [
       "<Figure size 1500x500 with 2 Axes>"
      ]
     },
     "metadata": {},
     "output_type": "display_data"
    }
   ],
   "source": [
    "accuracy = hist.history['accuracy']\n",
    "val_acc = hist.history['val_accuracy']\n",
    "loss=hist.history['loss']\n",
    "val_loss=hist.history['val_loss']\n",
    "epochs=range(len(accuracy))\n",
    "\n",
    "fig, ax = plt.subplots(1, 2, figsize=(15,5))\n",
    "\n",
    "ax[0].plot(epochs,accuracy,'b', label='Training accuracy')\n",
    "ax[0].plot(epochs,val_acc,'r', label='Validation accuracy')\n",
    "ax[0].set_title('Training and validation accuracy')\n",
    "ax[0].legend()\n",
    "\n",
    "ax[1].plot(epochs,loss,'b', label='Training loss')\n",
    "ax[1].plot(epochs,val_loss,'r', label='Validation loss')\n",
    "ax[1].set_title('Training and validation loss')\n",
    "ax[1].legend()\n",
    "\n",
    "plt.show()"
   ]
  },
  {
   "cell_type": "code",
   "execution_count": 24,
   "metadata": {
    "execution": {
     "iopub.execute_input": "2022-02-07T19:21:08.914448Z",
     "iopub.status.busy": "2022-02-07T19:21:08.913977Z",
     "iopub.status.idle": "2022-02-07T19:21:08.921453Z",
     "shell.execute_reply": "2022-02-07T19:21:08.920855Z",
     "shell.execute_reply.started": "2022-02-07T19:21:08.914407Z"
    },
    "id": "Xu8u1rxCkIlZ"
   },
   "outputs": [],
   "source": [
    "def sentence_cleaning(sentence):\n",
    "    stemmer = PorterStemmer()\n",
    "    corpus = []\n",
    "    text = re.sub(\"[^a-zA-Z]\", \" \", sentence)\n",
    "    text = text.lower()\n",
    "    text = text.split()\n",
    "    text = [stemmer.stem(word) for word in text if (word not in stopwords or word == 'not')]\n",
    "    text = \" \".join(text)\n",
    "    corpus.append(text)\n",
    "    one_hot_word = [one_hot(input_text=word, n=vocabSize) for word in corpus]\n",
    "    pad = pad_sequences(sequences=one_hot_word,maxlen=300,padding='pre')\n",
    "    return pad"
   ]
  },
  {
   "cell_type": "code",
   "execution_count": 25,
   "metadata": {
    "colab": {
     "base_uri": "https://localhost:8080/"
    },
    "execution": {
     "iopub.execute_input": "2022-02-07T20:46:23.690061Z",
     "iopub.status.busy": "2022-02-07T20:46:23.689567Z",
     "iopub.status.idle": "2022-02-07T20:46:24.481669Z",
     "shell.execute_reply": "2022-02-07T20:46:24.480561Z",
     "shell.execute_reply.started": "2022-02-07T20:46:23.690027Z"
    },
    "id": "oT3ri3zvkIlZ",
    "outputId": "35eeb43a-c928-4200-c422-a6e6897a353a"
   },
   "outputs": [
    {
     "name": "stdout",
     "output_type": "stream",
     "text": [
      "Those teachers are really annoying i don't know what they excpect from us, this is frustrating\n",
      "1/1 [==============================] - 1s 512ms/step\n",
      "['anger'] : 0.9277387261390686\n",
      "\n",
      "\n",
      "i feel like a miserable piece of garbage\n",
      "1/1 [==============================] - 0s 53ms/step\n",
      "['sadness'] : 0.9842321872711182\n",
      "\n",
      "\n",
      "i fear you\n",
      "1/1 [==============================] - 0s 38ms/step\n",
      "['fear'] : 0.9232425689697266\n",
      "\n",
      "\n"
     ]
    }
   ],
   "source": [
    "sentences = [\n",
    "             \"Those teachers are really annoying i don't know what they excpect from us, this is frustrating\",\n",
    "             \"i feel like a miserable piece of garbage\",\n",
    "             \"i fear you\"\n",
    "            ]\n",
    "for sentence in sentences:\n",
    "    print(sentence)\n",
    "    sentence = sentence_cleaning(sentence)\n",
    "    result = model.predict(sentence)\n",
    "    emotion_predict = np.argmax(result)\n",
    "    emotion_class = lb.inverse_transform([emotion_predict])\n",
    "    proba = np.max(result)\n",
    "    print(f\"{emotion_class} : {proba}\\n\\n\")"
   ]
  },
  {
   "cell_type": "markdown",
   "metadata": {
    "id": "2vTEna3FkIla"
   },
   "source": [
    "The model could improve with more playing around with different kind of layers, more complex ones, I assume, but I tried to keep it simple in this project.\n",
    "\n",
    "Overall not bad results."
   ]
  },
  {
   "cell_type": "code",
   "execution_count": 26,
   "metadata": {
    "id": "Qub3B6TUnfba"
   },
   "outputs": [],
   "source": [
    "model_saved = model.to_json()\n",
    "with open(\"model_saved.json\", \"w\") as json_file:\n",
    "    json_file.write(model_saved)\n",
    "model.save_weights(\"model_saved.h5\")"
   ]
  },
  {
   "cell_type": "code",
   "execution_count": 27,
   "metadata": {
    "id": "_eE1aFA9nsvS"
   },
   "outputs": [],
   "source": [
    "with open('model_saved.json', 'r') as json_file:\n",
    "    loaded_model_json = json_file.read()\n",
    "loaded_model = model_from_json(loaded_model_json)\n",
    "loaded_model.load_weights(\"model_saved.h5\")"
   ]
  },
  {
   "cell_type": "code",
   "execution_count": 28,
   "metadata": {
    "colab": {
     "base_uri": "https://localhost:8080/"
    },
    "id": "0MbuHFdfxHue",
    "outputId": "c7cd0bd1-24fc-49d1-dfac-8ae7de540c84"
   },
   "outputs": [
    {
     "name": "stdout",
     "output_type": "stream",
     "text": [
      "['anger' 'fear' 'joy' 'love' 'sadness' 'surprise']\n"
     ]
    }
   ],
   "source": [
    "print(lb.classes_)"
   ]
  },
  {
   "cell_type": "code",
   "execution_count": 29,
   "metadata": {},
   "outputs": [],
   "source": [
    "emotions_dict = {0:'Anger', 1:'Fear', 2:'Joy', 3:'Love', 4:'Sadness', 5:'Surprise'}"
   ]
  },
  {
   "cell_type": "code",
   "execution_count": 38,
   "metadata": {
    "colab": {
     "base_uri": "https://localhost:8080/"
    },
    "id": "TYMFztonoiTI",
    "outputId": "2bd9a1d8-b3c7-4687-88fa-e80c3f3b5ec2"
   },
   "outputs": [
    {
     "name": "stdout",
     "output_type": "stream",
     "text": [
      "He was speechles when he found out he was accepted to this new job\n",
      "1/1 [==============================] - 0s 44ms/step\n",
      "Joy : 0.28302696347236633\n",
      "\n",
      "\n",
      "This is outrageous, how can you talk like that?\n",
      "1/1 [==============================] - 0s 45ms/step\n",
      "Anger : 0.9215181469917297\n",
      "\n",
      "\n",
      "I feel like im all alone in this world\n",
      "1/1 [==============================] - 0s 48ms/step\n",
      "Sadness : 0.982779860496521\n",
      "\n",
      "\n",
      "He is really sweet and caring\n",
      "1/1 [==============================] - 0s 54ms/step\n",
      "Love : 0.8481955528259277\n",
      "\n",
      "\n",
      "Those teachers are really annoying i don't know what they excpect from us, this is frustrating\n",
      "1/1 [==============================] - 0s 51ms/step\n",
      "Anger : 0.9277387261390686\n",
      "\n",
      "\n",
      "this is really romantic\n",
      "1/1 [==============================] - 0s 39ms/step\n",
      "Love : 0.3771674931049347\n",
      "\n",
      "\n"
     ]
    }
   ],
   "source": [
    "sentences = [\n",
    "            \"He was speechles when he found out he was accepted to this new job\",\n",
    "            \"This is outrageous, how can you talk like that?\",\n",
    "            \"I feel like im all alone in this world\",\n",
    "            \"He is really sweet and caring\",\n",
    "             \"Those teachers are really annoying i don't know what they excpect from us, this is frustrating\",\n",
    "             \"this is really romantic\"\n",
    "            ]\n",
    "for sentence in sentences:\n",
    "    print(sentence)\n",
    "    sentence = sentence_cleaning(sentence)\n",
    "    result = model.predict(sentence)\n",
    "    emotion_result = emotions_dict[int(np.argmax(result))]\n",
    "    proba =  np.max(result)\n",
    "    print(f\"{emotion_result} : {proba}\\n\\n\")"
   ]
  }
 ],
 "metadata": {
  "accelerator": "GPU",
  "colab": {
   "provenance": []
  },
  "gpuClass": "standard",
  "kernelspec": {
   "display_name": "Python 3 (ipykernel)",
   "language": "python",
   "name": "python3"
  },
  "language_info": {
   "codemirror_mode": {
    "name": "ipython",
    "version": 3
   },
   "file_extension": ".py",
   "mimetype": "text/x-python",
   "name": "python",
   "nbconvert_exporter": "python",
   "pygments_lexer": "ipython3",
   "version": "3.11.5"
  }
 },
 "nbformat": 4,
 "nbformat_minor": 1
}
